{
 "cells": [
  {
   "cell_type": "code",
   "execution_count": null,
   "metadata": {},
   "outputs": [],
   "source": []
  },
  {
   "cell_type": "code",
   "execution_count": null,
   "metadata": {},
   "outputs": [],
   "source": [
    "#----------------------------VADER----------------------------"
   ]
  },
  {
   "cell_type": "code",
   "execution_count": 3,
   "metadata": {},
   "outputs": [],
   "source": [
    "from vaderSentiment.vaderSentiment import SentimentIntensityAnalyzer\n",
    "vader = SentimentIntensityAnalyzer()"
   ]
  },
  {
   "cell_type": "code",
   "execution_count": 33,
   "metadata": {},
   "outputs": [
    {
     "name": "stdout",
     "output_type": "stream",
     "text": [
      "{'neg': 0.0, 'neu': 0.408, 'pos': 0.592, 'compound': 0.4404}\n",
      "{'neg': 0.0, 'neu': 0.484, 'pos': 0.516, 'compound': 0.4927}\n",
      "{'neg': 0.0, 'neu': 0.328, 'pos': 0.672, 'compound': 0.6249}\n",
      "{'neg': 0.608, 'neu': 0.392, 'pos': 0.0, 'compound': -0.4767}\n",
      "{'neg': 0.0, 'neu': 0.5, 'pos': 0.5, 'compound': 0.4588}\n",
      "{'neg': 0.492, 'neu': 0.508, 'pos': 0.0, 'compound': -0.4404}\n",
      "{'neg': 0.0, 'neu': 0.526, 'pos': 0.474, 'compound': 0.2023}\n",
      "{'neg': 0.0, 'neu': 0.489, 'pos': 0.511, 'compound': 0.2714}\n",
      "{'neg': 0.0, 'neu': 0.441, 'pos': 0.559, 'compound': 0.368}\n",
      "{'neg': 0.209, 'neu': 0.673, 'pos': 0.118, 'compound': -0.3291}\n"
     ]
    }
   ],
   "source": [
    "print(vader.polarity_scores('This is good'))\n",
    "print(vader.polarity_scores('This is really good'))\n",
    "print(vader.polarity_scores('This is great'))\n",
    "print(vader.polarity_scores('This is terrible'))\n",
    "print(vader.polarity_scores('How are you? :)'))\n",
    "print(vader.polarity_scores('How are you? :('))\n",
    "print(vader.polarity_scores('This is fine'))\n",
    "print(vader.polarity_scores('This is fine!'))\n",
    "print(vader.polarity_scores('This is FINE'))\n",
    "print(vader.polarity_scores('I used to like him, but now I see he is jerk'))"
   ]
  },
  {
   "cell_type": "code",
   "execution_count": null,
   "metadata": {},
   "outputs": [],
   "source": [
    "#----------------------------TextBlob----------------------------"
   ]
  },
  {
   "cell_type": "code",
   "execution_count": 9,
   "metadata": {},
   "outputs": [],
   "source": [
    "from textblob import TextBlob"
   ]
  },
  {
   "cell_type": "code",
   "execution_count": 35,
   "metadata": {},
   "outputs": [
    {
     "name": "stdout",
     "output_type": "stream",
     "text": [
      "Sentiment(polarity=0.7, subjectivity=0.6000000000000001)\n",
      "Sentiment(polarity=0.7, subjectivity=0.6000000000000001)\n",
      "Sentiment(polarity=0.8, subjectivity=0.75)\n",
      "Sentiment(polarity=-1.0, subjectivity=1.0)\n",
      "Sentiment(polarity=0.0, subjectivity=0.0)\n",
      "Sentiment(polarity=0.5, subjectivity=1.0)\n",
      "Sentiment(polarity=-0.75, subjectivity=1.0)\n",
      "Sentiment(polarity=0.4166666666666667, subjectivity=0.5)\n",
      "Sentiment(polarity=0.5208333333333334, subjectivity=0.5)\n",
      "Sentiment(polarity=0.4166666666666667, subjectivity=0.5)\n",
      "Sentiment(polarity=0.5, subjectivity=0.6)\n"
     ]
    }
   ],
   "source": [
    "print(TextBlob('This is good').sentiment)\n",
    "print(TextBlob('This is really good').sentiment)\n",
    "print(TextBlob('This is great').sentiment)\n",
    "print(TextBlob('This is terrible').sentiment)\n",
    "print(TextBlob('How are you?').sentiment)\n",
    "print(TextBlob('How are you? :)').sentiment)\n",
    "print(TextBlob('How are you? :(').sentiment)\n",
    "print(TextBlob('This is fine').sentiment)\n",
    "print(TextBlob('This is fine!').sentiment)\n",
    "print(TextBlob('This is FINE').sentiment)\n",
    "print(TextBlob('I used to love him, but now I see he is jerk').sentiment)"
   ]
  },
  {
   "cell_type": "code",
   "execution_count": null,
   "metadata": {},
   "outputs": [],
   "source": []
  }
 ],
 "metadata": {
  "kernelspec": {
   "display_name": "Python 3",
   "language": "python",
   "name": "python3"
  },
  "language_info": {
   "codemirror_mode": {
    "name": "ipython",
    "version": 3
   },
   "file_extension": ".py",
   "mimetype": "text/x-python",
   "name": "python",
   "nbconvert_exporter": "python",
   "pygments_lexer": "ipython3",
   "version": "3.7.1"
  }
 },
 "nbformat": 4,
 "nbformat_minor": 4
}
